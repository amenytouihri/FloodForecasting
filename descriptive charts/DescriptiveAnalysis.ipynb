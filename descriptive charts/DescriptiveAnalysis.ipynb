{
 "cells": [
  {
   "cell_type": "markdown",
   "metadata": {},
   "source": [
    "# FLood Forecasting\n"
   ]
  },
  {
   "cell_type": "markdown",
   "metadata": {},
   "source": [
    "## Data Acquisition"
   ]
  },
  {
   "cell_type": "code",
   "execution_count": 31,
   "metadata": {},
   "outputs": [],
   "source": [
    "import numpy as np\n",
    "import pandas as pd\n",
    "import matplotlib.pyplot as plt\n",
    "import seaborn as sns\n",
    "import scipy.cluster.hierarchy as shc\n",
    "import statistics"
   ]
  },
  {
   "cell_type": "code",
   "execution_count": 8,
   "metadata": {},
   "outputs": [
    {
     "data": {
      "text/html": "<div>\n<style scoped>\n    .dataframe tbody tr th:only-of-type {\n        vertical-align: middle;\n    }\n\n    .dataframe tbody tr th {\n        vertical-align: top;\n    }\n\n    .dataframe thead th {\n        text-align: right;\n    }\n</style>\n<table border=\"1\" class=\"dataframe\">\n  <thead>\n    <tr style=\"text-align: right;\">\n      <th></th>\n      <th>Date</th>\n      <th>station</th>\n      <th>Pluvio_du_jour</th>\n      <th>Cumul_du_mois</th>\n      <th>Cumul_moy_du_mois</th>\n      <th>Cumul_periode</th>\n      <th>Cumul_moy_periode</th>\n      <th>Cumul_mois_precedent</th>\n      <th>Cumul_periode_precedente</th>\n    </tr>\n  </thead>\n  <tbody>\n    <tr>\n      <th>0</th>\n      <td>2021-11-20</td>\n      <td>جندوبة</td>\n      <td>0.0</td>\n      <td>15.9</td>\n      <td>45.510000</td>\n      <td>89.0</td>\n      <td>109.744000</td>\n      <td>43.2</td>\n      <td>96.2</td>\n    </tr>\n    <tr>\n      <th>1</th>\n      <td>2021-11-20</td>\n      <td>بوسالم</td>\n      <td>0.0</td>\n      <td>16.2</td>\n      <td>45.786667</td>\n      <td>90.0</td>\n      <td>106.104445</td>\n      <td>54.5</td>\n      <td>82.9</td>\n    </tr>\n    <tr>\n      <th>2</th>\n      <td>2021-11-20</td>\n      <td>غار الدماء</td>\n      <td>0.0</td>\n      <td>7.8</td>\n      <td>46.614286</td>\n      <td>66.3</td>\n      <td>102.355102</td>\n      <td>17.3</td>\n      <td>53.9</td>\n    </tr>\n    <tr>\n      <th>3</th>\n      <td>2021-11-20</td>\n      <td>عين دراهم</td>\n      <td>0.0</td>\n      <td>58.0</td>\n      <td>202.260000</td>\n      <td>407.0</td>\n      <td>352.946000</td>\n      <td>104.0</td>\n      <td>332.0</td>\n    </tr>\n    <tr>\n      <th>4</th>\n      <td>2021-11-20</td>\n      <td>طبرقة</td>\n      <td>0.0</td>\n      <td>63.6</td>\n      <td>144.524000</td>\n      <td>285.2</td>\n      <td>255.266000</td>\n      <td>44.6</td>\n      <td>239.2</td>\n    </tr>\n    <tr>\n      <th>...</th>\n      <td>...</td>\n      <td>...</td>\n      <td>...</td>\n      <td>...</td>\n      <td>...</td>\n      <td>...</td>\n      <td>...</td>\n      <td>...</td>\n      <td>...</td>\n    </tr>\n    <tr>\n      <th>39281</th>\n      <td>2020-12-27</td>\n      <td>قلعة الأندلس</td>\n      <td>1.0</td>\n      <td>127.0</td>\n      <td>74.700000</td>\n      <td>291.0</td>\n      <td>177.123510</td>\n      <td>90.0</td>\n      <td>194.0</td>\n    </tr>\n    <tr>\n      <th>39282</th>\n      <td>2020-12-27</td>\n      <td>منوبة</td>\n      <td>1.5</td>\n      <td>86.5</td>\n      <td>54.600000</td>\n      <td>287.0</td>\n      <td>165.096898</td>\n      <td>65.5</td>\n      <td>255.0</td>\n    </tr>\n    <tr>\n      <th>39283</th>\n      <td>2020-12-27</td>\n      <td>برج العامري</td>\n      <td>1.0</td>\n      <td>81.0</td>\n      <td>55.100000</td>\n      <td>222.0</td>\n      <td>205.550000</td>\n      <td>51.5</td>\n      <td>155.5</td>\n    </tr>\n    <tr>\n      <th>39284</th>\n      <td>2020-12-27</td>\n      <td>البطان</td>\n      <td>0.0</td>\n      <td>68.0</td>\n      <td>52.900000</td>\n      <td>217.0</td>\n      <td>214.398139</td>\n      <td>67.0</td>\n      <td>172.0</td>\n    </tr>\n    <tr>\n      <th>39285</th>\n      <td>2020-12-27</td>\n      <td>بن عروس</td>\n      <td>1.5</td>\n      <td>74.3</td>\n      <td>66.300000</td>\n      <td>320.8</td>\n      <td>199.178358</td>\n      <td>60.1</td>\n      <td>NaN</td>\n    </tr>\n  </tbody>\n</table>\n<p>39286 rows × 9 columns</p>\n</div>",
      "text/plain": "             Date       station  Pluvio_du_jour  Cumul_du_mois  \\\n0      2021-11-20        جندوبة             0.0           15.9   \n1      2021-11-20        بوسالم             0.0           16.2   \n2      2021-11-20    غار الدماء             0.0            7.8   \n3      2021-11-20     عين دراهم             0.0           58.0   \n4      2021-11-20         طبرقة             0.0           63.6   \n...           ...           ...             ...            ...   \n39281  2020-12-27  قلعة الأندلس             1.0          127.0   \n39282  2020-12-27         منوبة             1.5           86.5   \n39283  2020-12-27   برج العامري             1.0           81.0   \n39284  2020-12-27        البطان             0.0           68.0   \n39285  2020-12-27      بن عروس              1.5           74.3   \n\n       Cumul_moy_du_mois  Cumul_periode  Cumul_moy_periode  \\\n0              45.510000           89.0         109.744000   \n1              45.786667           90.0         106.104445   \n2              46.614286           66.3         102.355102   \n3             202.260000          407.0         352.946000   \n4             144.524000          285.2         255.266000   \n...                  ...            ...                ...   \n39281          74.700000          291.0         177.123510   \n39282          54.600000          287.0         165.096898   \n39283          55.100000          222.0         205.550000   \n39284          52.900000          217.0         214.398139   \n39285          66.300000          320.8         199.178358   \n\n       Cumul_mois_precedent  Cumul_periode_precedente  \n0                      43.2                      96.2  \n1                      54.5                      82.9  \n2                      17.3                      53.9  \n3                     104.0                     332.0  \n4                      44.6                     239.2  \n...                     ...                       ...  \n39281                  90.0                     194.0  \n39282                  65.5                     255.0  \n39283                  51.5                     155.5  \n39284                  67.0                     172.0  \n39285                  60.1                       NaN  \n\n[39286 rows x 9 columns]"
     },
     "execution_count": 8,
     "metadata": {},
     "output_type": "execute_result"
    }
   ],
   "source": [
    "data = pd.read_csv('dataset/pluviometrie.csv')\n",
    "data"
   ]
  },
  {
   "cell_type": "markdown",
   "metadata": {},
   "source": [
    "## Data Cleaning"
   ]
  },
  {
   "cell_type": "markdown",
   "metadata": {},
   "source": [
    "Defining the columns"
   ]
  },
  {
   "cell_type": "code",
   "execution_count": 9,
   "metadata": {},
   "outputs": [
    {
     "data": {
      "text/html": "<div>\n<style scoped>\n    .dataframe tbody tr th:only-of-type {\n        vertical-align: middle;\n    }\n\n    .dataframe tbody tr th {\n        vertical-align: top;\n    }\n\n    .dataframe thead th {\n        text-align: right;\n    }\n</style>\n<table border=\"1\" class=\"dataframe\">\n  <thead>\n    <tr style=\"text-align: right;\">\n      <th></th>\n      <th>Date</th>\n      <th>station</th>\n      <th>Cumul_periode</th>\n      <th>Cumul_periode_precedente</th>\n    </tr>\n  </thead>\n  <tbody>\n    <tr>\n      <th>0</th>\n      <td>2021-11-20</td>\n      <td>جندوبة</td>\n      <td>89.0</td>\n      <td>96.2</td>\n    </tr>\n    <tr>\n      <th>1</th>\n      <td>2021-11-20</td>\n      <td>بوسالم</td>\n      <td>90.0</td>\n      <td>82.9</td>\n    </tr>\n    <tr>\n      <th>2</th>\n      <td>2021-11-20</td>\n      <td>غار الدماء</td>\n      <td>66.3</td>\n      <td>53.9</td>\n    </tr>\n    <tr>\n      <th>3</th>\n      <td>2021-11-20</td>\n      <td>عين دراهم</td>\n      <td>407.0</td>\n      <td>332.0</td>\n    </tr>\n    <tr>\n      <th>4</th>\n      <td>2021-11-20</td>\n      <td>طبرقة</td>\n      <td>285.2</td>\n      <td>239.2</td>\n    </tr>\n    <tr>\n      <th>...</th>\n      <td>...</td>\n      <td>...</td>\n      <td>...</td>\n      <td>...</td>\n    </tr>\n    <tr>\n      <th>39281</th>\n      <td>2020-12-27</td>\n      <td>قلعة الأندلس</td>\n      <td>291.0</td>\n      <td>194.0</td>\n    </tr>\n    <tr>\n      <th>39282</th>\n      <td>2020-12-27</td>\n      <td>منوبة</td>\n      <td>287.0</td>\n      <td>255.0</td>\n    </tr>\n    <tr>\n      <th>39283</th>\n      <td>2020-12-27</td>\n      <td>برج العامري</td>\n      <td>222.0</td>\n      <td>155.5</td>\n    </tr>\n    <tr>\n      <th>39284</th>\n      <td>2020-12-27</td>\n      <td>البطان</td>\n      <td>217.0</td>\n      <td>172.0</td>\n    </tr>\n    <tr>\n      <th>39285</th>\n      <td>2020-12-27</td>\n      <td>بن عروس</td>\n      <td>320.8</td>\n      <td>NaN</td>\n    </tr>\n  </tbody>\n</table>\n<p>39286 rows × 4 columns</p>\n</div>",
      "text/plain": "             Date       station  Cumul_periode  Cumul_periode_precedente\n0      2021-11-20        جندوبة           89.0                      96.2\n1      2021-11-20        بوسالم           90.0                      82.9\n2      2021-11-20    غار الدماء           66.3                      53.9\n3      2021-11-20     عين دراهم          407.0                     332.0\n4      2021-11-20         طبرقة          285.2                     239.2\n...           ...           ...            ...                       ...\n39281  2020-12-27  قلعة الأندلس          291.0                     194.0\n39282  2020-12-27         منوبة          287.0                     255.0\n39283  2020-12-27   برج العامري          222.0                     155.5\n39284  2020-12-27        البطان          217.0                     172.0\n39285  2020-12-27      بن عروس           320.8                       NaN\n\n[39286 rows x 4 columns]"
     },
     "execution_count": 9,
     "metadata": {},
     "output_type": "execute_result"
    }
   ],
   "source": [
    "df = pd.DataFrame(data, columns = ['Date','station', 'Cumul_periode', 'Cumul_periode_precedente'])\n",
    "df"
   ]
  },
  {
   "cell_type": "code",
   "execution_count": 10,
   "metadata": {},
   "outputs": [
    {
     "name": "stdout",
     "output_type": "stream",
     "text": [
      "Date                         object\n",
      "station                      object\n",
      "Cumul_periode               float64\n",
      "Cumul_periode_precedente    float64\n",
      "dtype: object\n"
     ]
    }
   ],
   "source": [
    "# check the data type of data frame \"df\" by .dtypes\n",
    "print(df.dtypes)"
   ]
  },
  {
   "cell_type": "code",
   "execution_count": 11,
   "metadata": {},
   "outputs": [
    {
     "data": {
      "text/html": "<div>\n<style scoped>\n    .dataframe tbody tr th:only-of-type {\n        vertical-align: middle;\n    }\n\n    .dataframe tbody tr th {\n        vertical-align: top;\n    }\n\n    .dataframe thead th {\n        text-align: right;\n    }\n</style>\n<table border=\"1\" class=\"dataframe\">\n  <thead>\n    <tr style=\"text-align: right;\">\n      <th></th>\n      <th>Date</th>\n      <th>station</th>\n      <th>Cumul_periode</th>\n      <th>Cumul_periode_precedente</th>\n    </tr>\n  </thead>\n  <tbody>\n    <tr>\n      <th>22873</th>\n      <td>2021-05-11</td>\n      <td>جومين</td>\n      <td>641.5</td>\n      <td>626.0</td>\n    </tr>\n    <tr>\n      <th>1284</th>\n      <td>2021-11-09</td>\n      <td>جومين</td>\n      <td>193.0</td>\n      <td>203.0</td>\n    </tr>\n    <tr>\n      <th>17830</th>\n      <td>2021-06-22</td>\n      <td>جومين</td>\n      <td>641.5</td>\n      <td>634.0</td>\n    </tr>\n    <tr>\n      <th>38444</th>\n      <td>2021-01-03</td>\n      <td>جومين</td>\n      <td>398.0</td>\n      <td>379.0</td>\n    </tr>\n    <tr>\n      <th>36845</th>\n      <td>2021-01-16</td>\n      <td>جومين</td>\n      <td>428.0</td>\n      <td>419.0</td>\n    </tr>\n    <tr>\n      <th>...</th>\n      <td>...</td>\n      <td>...</td>\n      <td>...</td>\n      <td>...</td>\n    </tr>\n    <tr>\n      <th>32967</th>\n      <td>2021-02-18</td>\n      <td>نفطة</td>\n      <td>16.0</td>\n      <td>29.0</td>\n    </tr>\n    <tr>\n      <th>20466</th>\n      <td>2021-06-01</td>\n      <td>نفطة</td>\n      <td>18.0</td>\n      <td>60.5</td>\n    </tr>\n    <tr>\n      <th>37144</th>\n      <td>2021-01-14</td>\n      <td>نفطة</td>\n      <td>16.0</td>\n      <td>29.0</td>\n    </tr>\n    <tr>\n      <th>1583</th>\n      <td>2021-11-07</td>\n      <td>نفطة</td>\n      <td>0.0</td>\n      <td>0.0</td>\n    </tr>\n    <tr>\n      <th>14685</th>\n      <td>2021-07-21</td>\n      <td>نفطة</td>\n      <td>18.0</td>\n      <td>66.5</td>\n    </tr>\n  </tbody>\n</table>\n<p>39286 rows × 4 columns</p>\n</div>",
      "text/plain": "             Date station  Cumul_periode  Cumul_periode_precedente\n22873  2021-05-11   جومين          641.5                     626.0\n1284   2021-11-09   جومين          193.0                     203.0\n17830  2021-06-22   جومين          641.5                     634.0\n38444  2021-01-03   جومين          398.0                     379.0\n36845  2021-01-16   جومين          428.0                     419.0\n...           ...     ...            ...                       ...\n32967  2021-02-18   نفطة            16.0                      29.0\n20466  2021-06-01   نفطة            18.0                      60.5\n37144  2021-01-14   نفطة            16.0                      29.0\n1583   2021-11-07   نفطة             0.0                       0.0\n14685  2021-07-21   نفطة            18.0                      66.5\n\n[39286 rows x 4 columns]"
     },
     "execution_count": 11,
     "metadata": {},
     "output_type": "execute_result"
    }
   ],
   "source": [
    "df.sort_values(\"station\", inplace=True)\n",
    "df"
   ]
  },
  {
   "cell_type": "code",
   "execution_count": 12,
   "metadata": {},
   "outputs": [
    {
     "data": {
      "text/html": "<div>\n<style scoped>\n    .dataframe tbody tr th:only-of-type {\n        vertical-align: middle;\n    }\n\n    .dataframe tbody tr th {\n        vertical-align: top;\n    }\n\n    .dataframe thead th {\n        text-align: right;\n    }\n</style>\n<table border=\"1\" class=\"dataframe\">\n  <thead>\n    <tr style=\"text-align: right;\">\n      <th></th>\n      <th>Date</th>\n      <th>station</th>\n      <th>Cumul_periode</th>\n      <th>Cumul_periode_precedente</th>\n    </tr>\n  </thead>\n  <tbody>\n    <tr>\n      <th>22873</th>\n      <td>2021-05-11</td>\n      <td>جومين</td>\n      <td>641.5</td>\n      <td>626.0</td>\n    </tr>\n    <tr>\n      <th>1284</th>\n      <td>2021-11-09</td>\n      <td>جومين</td>\n      <td>193.0</td>\n      <td>203.0</td>\n    </tr>\n    <tr>\n      <th>17830</th>\n      <td>2021-06-22</td>\n      <td>جومين</td>\n      <td>641.5</td>\n      <td>634.0</td>\n    </tr>\n    <tr>\n      <th>38444</th>\n      <td>2021-01-03</td>\n      <td>جومين</td>\n      <td>398.0</td>\n      <td>379.0</td>\n    </tr>\n    <tr>\n      <th>36845</th>\n      <td>2021-01-16</td>\n      <td>جومين</td>\n      <td>428.0</td>\n      <td>419.0</td>\n    </tr>\n    <tr>\n      <th>...</th>\n      <td>...</td>\n      <td>...</td>\n      <td>...</td>\n      <td>...</td>\n    </tr>\n    <tr>\n      <th>32967</th>\n      <td>2021-02-18</td>\n      <td>نفطة</td>\n      <td>16.0</td>\n      <td>29.0</td>\n    </tr>\n    <tr>\n      <th>20466</th>\n      <td>2021-06-01</td>\n      <td>نفطة</td>\n      <td>18.0</td>\n      <td>60.5</td>\n    </tr>\n    <tr>\n      <th>37144</th>\n      <td>2021-01-14</td>\n      <td>نفطة</td>\n      <td>16.0</td>\n      <td>29.0</td>\n    </tr>\n    <tr>\n      <th>1583</th>\n      <td>2021-11-07</td>\n      <td>نفطة</td>\n      <td>0.0</td>\n      <td>0.0</td>\n    </tr>\n    <tr>\n      <th>14685</th>\n      <td>2021-07-21</td>\n      <td>نفطة</td>\n      <td>18.0</td>\n      <td>66.5</td>\n    </tr>\n  </tbody>\n</table>\n<p>39072 rows × 4 columns</p>\n</div>",
      "text/plain": "             Date station  Cumul_periode  Cumul_periode_precedente\n22873  2021-05-11   جومين          641.5                     626.0\n1284   2021-11-09   جومين          193.0                     203.0\n17830  2021-06-22   جومين          641.5                     634.0\n38444  2021-01-03   جومين          398.0                     379.0\n36845  2021-01-16   جومين          428.0                     419.0\n...           ...     ...            ...                       ...\n32967  2021-02-18   نفطة            16.0                      29.0\n20466  2021-06-01   نفطة            18.0                      60.5\n37144  2021-01-14   نفطة            16.0                      29.0\n1583   2021-11-07   نفطة             0.0                       0.0\n14685  2021-07-21   نفطة            18.0                      66.5\n\n[39072 rows x 4 columns]"
     },
     "execution_count": 12,
     "metadata": {},
     "output_type": "execute_result"
    }
   ],
   "source": [
    "df.drop_duplicates(keep=False,inplace=True)\n",
    "df"
   ]
  },
  {
   "cell_type": "code",
   "execution_count": 13,
   "metadata": {},
   "outputs": [
    {
     "name": "stdout",
     "output_type": "stream",
     "text": [
      "False\n",
      "True\n"
     ]
    }
   ],
   "source": [
    "#Check if there are NaN values\n",
    "nonapplicablevalues_periode=np.any(np.isnan(df['Cumul_periode']))\n",
    "print(nonapplicablevalues_periode)\n",
    "\n",
    "nonapplicablevalues_periodeprecedente=np.any(np.isnan(df['Cumul_periode_precedente']))\n",
    "print(nonapplicablevalues_periodeprecedente)\n"
   ]
  },
  {
   "cell_type": "code",
   "execution_count": 14,
   "metadata": {},
   "outputs": [
    {
     "name": "stdout",
     "output_type": "stream",
     "text": [
      "False\n"
     ]
    }
   ],
   "source": [
    "#Replace NaN Values with Zeros \n",
    "df['Cumul_periode_precedente']=df['Cumul_periode_precedente'].fillna(0.0)\n",
    "\n",
    "nonapplicablevalues_periodeprecedente=np.any(np.isnan(df['Cumul_periode_precedente']))\n",
    "print(nonapplicablevalues_periodeprecedente)"
   ]
  },
  {
   "cell_type": "markdown",
   "metadata": {},
   "source": [
    "## Data Classification"
   ]
  },
  {
   "cell_type": "code",
   "execution_count": 42,
   "metadata": {},
   "outputs": [
    {
     "name": "stdout",
     "output_type": "stream",
     "text": [
      "The average rainfall for nabeul for period 2019-2020 is  273\n",
      "The average rainfall for nabeul for period 2020-2021 is  211\n"
     ]
    }
   ],
   "source": [
    "nabeul=df.loc[df['station'] == 'نابل']\n",
    "\n",
    "averagenabeul=statistics.mean(nabeul['Cumul_periode_precedente'])\n",
    "print('The average rainfall for nabeul for period 2019-2020 is ',round(averagenabeul))\n",
    "\n",
    "averagenabeul=statistics.mean(nabeul['Cumul_periode'])\n",
    "print('The average rainfall for nabeul for period 2020-2021 is ',round(averagenabeul))\n"
   ]
  },
  {
   "cell_type": "code",
   "execution_count": 43,
   "metadata": {},
   "outputs": [
    {
     "name": "stdout",
     "output_type": "stream",
     "text": [
      "The average rainfall for sousse for period 2019-2020 is  287\n",
      "The average rainfall for sousse for period 2020-2021 is  246\n"
     ]
    }
   ],
   "source": [
    "sousse=df.loc[df['station'] == 'سوسة']\n",
    "\n",
    "averagesousse=statistics.mean(sousse['Cumul_periode_precedente'])\n",
    "print('The average rainfall for sousse for period 2019-2020 is ',round(averagesousse))\n",
    "\n",
    "averagesousse=statistics.mean(sousse['Cumul_periode'])\n",
    "print('The average rainfall for sousse for period 2020-2021 is ',round(averagesousse))\n"
   ]
  },
  {
   "cell_type": "code",
   "execution_count": 44,
   "metadata": {},
   "outputs": [
    {
     "name": "stdout",
     "output_type": "stream",
     "text": [
      "The average rainfall for tataouine for period 2019-2020 is  5\n",
      "The average rainfall for tataouine for period 2020-2021 is  0\n"
     ]
    }
   ],
   "source": [
    "tataouine=df.loc[df['station'] == 'تطاوين']\n",
    "\n",
    "averagetataouine=statistics.mean(tataouine['Cumul_periode_precedente'])\n",
    "print('The average rainfall for tataouine for period 2019-2020 is ',round(averagetataouine))\n",
    "\n",
    "averagetataouine=statistics.mean(tataouine['Cumul_periode'])\n",
    "print('The average rainfall for tataouine for period 2020-2021 is ',round(averagetataouine))\n"
   ]
  },
  {
   "cell_type": "code",
   "execution_count": 50,
   "metadata": {},
   "outputs": [
    {
     "ename": "StatisticsError",
     "evalue": "mean requires at least one data point",
     "output_type": "error",
     "traceback": [
      "\u001b[0;31m---------------------------------------------------------------------------\u001b[0m",
      "\u001b[0;31mStatisticsError\u001b[0m                           Traceback (most recent call last)",
      "\u001b[0;32m<ipython-input-50-eb9a01dbdbc8>\u001b[0m in \u001b[0;36m<module>\u001b[0;34m\u001b[0m\n\u001b[1;32m      1\u001b[0m \u001b[0mtunis\u001b[0m\u001b[0;34m=\u001b[0m\u001b[0mdf\u001b[0m\u001b[0;34m.\u001b[0m\u001b[0mloc\u001b[0m\u001b[0;34m[\u001b[0m\u001b[0mdf\u001b[0m\u001b[0;34m[\u001b[0m\u001b[0;34m'station'\u001b[0m\u001b[0;34m]\u001b[0m \u001b[0;34m==\u001b[0m \u001b[0;34m'تونس'\u001b[0m\u001b[0;34m]\u001b[0m\u001b[0;34m\u001b[0m\u001b[0;34m\u001b[0m\u001b[0m\n\u001b[1;32m      2\u001b[0m \u001b[0;34m\u001b[0m\u001b[0m\n\u001b[0;32m----> 3\u001b[0;31m \u001b[0maveragetunis\u001b[0m\u001b[0;34m=\u001b[0m\u001b[0mstatistics\u001b[0m\u001b[0;34m.\u001b[0m\u001b[0mmean\u001b[0m\u001b[0;34m(\u001b[0m\u001b[0mtunis\u001b[0m\u001b[0;34m[\u001b[0m\u001b[0;34m'Cumul_periode_precedente'\u001b[0m\u001b[0;34m]\u001b[0m\u001b[0;34m)\u001b[0m\u001b[0;34m\u001b[0m\u001b[0;34m\u001b[0m\u001b[0m\n\u001b[0m\u001b[1;32m      4\u001b[0m \u001b[0mprint\u001b[0m\u001b[0;34m(\u001b[0m\u001b[0;34m'The average rainfall for tunis for period 2019-2020 is '\u001b[0m\u001b[0;34m,\u001b[0m\u001b[0mround\u001b[0m\u001b[0;34m(\u001b[0m\u001b[0maveragetunis\u001b[0m\u001b[0;34m)\u001b[0m\u001b[0;34m)\u001b[0m\u001b[0;34m\u001b[0m\u001b[0;34m\u001b[0m\u001b[0m\n\u001b[1;32m      5\u001b[0m \u001b[0;34m\u001b[0m\u001b[0m\n",
      "\u001b[0;32m~/opt/anaconda3/lib/python3.8/statistics.py\u001b[0m in \u001b[0;36mmean\u001b[0;34m(data)\u001b[0m\n\u001b[1;32m    313\u001b[0m     \u001b[0mn\u001b[0m \u001b[0;34m=\u001b[0m \u001b[0mlen\u001b[0m\u001b[0;34m(\u001b[0m\u001b[0mdata\u001b[0m\u001b[0;34m)\u001b[0m\u001b[0;34m\u001b[0m\u001b[0;34m\u001b[0m\u001b[0m\n\u001b[1;32m    314\u001b[0m     \u001b[0;32mif\u001b[0m \u001b[0mn\u001b[0m \u001b[0;34m<\u001b[0m \u001b[0;36m1\u001b[0m\u001b[0;34m:\u001b[0m\u001b[0;34m\u001b[0m\u001b[0;34m\u001b[0m\u001b[0m\n\u001b[0;32m--> 315\u001b[0;31m         \u001b[0;32mraise\u001b[0m \u001b[0mStatisticsError\u001b[0m\u001b[0;34m(\u001b[0m\u001b[0;34m'mean requires at least one data point'\u001b[0m\u001b[0;34m)\u001b[0m\u001b[0;34m\u001b[0m\u001b[0;34m\u001b[0m\u001b[0m\n\u001b[0m\u001b[1;32m    316\u001b[0m     \u001b[0mT\u001b[0m\u001b[0;34m,\u001b[0m \u001b[0mtotal\u001b[0m\u001b[0;34m,\u001b[0m \u001b[0mcount\u001b[0m \u001b[0;34m=\u001b[0m \u001b[0m_sum\u001b[0m\u001b[0;34m(\u001b[0m\u001b[0mdata\u001b[0m\u001b[0;34m)\u001b[0m\u001b[0;34m\u001b[0m\u001b[0;34m\u001b[0m\u001b[0m\n\u001b[1;32m    317\u001b[0m     \u001b[0;32massert\u001b[0m \u001b[0mcount\u001b[0m \u001b[0;34m==\u001b[0m \u001b[0mn\u001b[0m\u001b[0;34m\u001b[0m\u001b[0;34m\u001b[0m\u001b[0m\n",
      "\u001b[0;31mStatisticsError\u001b[0m: mean requires at least one data point"
     ]
    }
   ],
   "source": [
    "tunis=df.loc[df['station'] == 'تونس']\n",
    "\n",
    "averagetunis=statistics.mean(tunis['Cumul_periode_precedente'])\n",
    "print('The average rainfall for tunis for period 2019-2020 is ',round(averagetunis))\n",
    "\n",
    "averagetunis=statistics.mean(tunis['Cumul_periode'])\n",
    "print('The average rainfall for tunis for period 2020-2021 is ',round(averagetunis))\n"
   ]
  },
  {
   "cell_type": "code",
   "execution_count": 59,
   "metadata": {},
   "outputs": [
    {
     "ename": "StatisticsError",
     "evalue": "mean requires at least one data point",
     "output_type": "error",
     "traceback": [
      "\u001b[0;31m---------------------------------------------------------------------------\u001b[0m",
      "\u001b[0;31mStatisticsError\u001b[0m                           Traceback (most recent call last)",
      "\u001b[0;32m<ipython-input-59-a95dbb1ddda8>\u001b[0m in \u001b[0;36m<module>\u001b[0;34m\u001b[0m\n\u001b[1;32m      1\u001b[0m \u001b[0mbizerte\u001b[0m\u001b[0;34m=\u001b[0m\u001b[0mdf\u001b[0m\u001b[0;34m.\u001b[0m\u001b[0mloc\u001b[0m\u001b[0;34m[\u001b[0m\u001b[0mdf\u001b[0m\u001b[0;34m[\u001b[0m\u001b[0;34m'station'\u001b[0m\u001b[0;34m]\u001b[0m \u001b[0;34m==\u001b[0m \u001b[0;34m'بنزرت'\u001b[0m\u001b[0;34m]\u001b[0m\u001b[0;34m\u001b[0m\u001b[0;34m\u001b[0m\u001b[0m\n\u001b[1;32m      2\u001b[0m \u001b[0;34m\u001b[0m\u001b[0m\n\u001b[0;32m----> 3\u001b[0;31m \u001b[0maveragebizerte\u001b[0m\u001b[0;34m=\u001b[0m\u001b[0mstatistics\u001b[0m\u001b[0;34m.\u001b[0m\u001b[0mmean\u001b[0m\u001b[0;34m(\u001b[0m\u001b[0mbizerte\u001b[0m\u001b[0;34m[\u001b[0m\u001b[0;34m'Cumul_periode_precedente'\u001b[0m\u001b[0;34m]\u001b[0m\u001b[0;34m)\u001b[0m\u001b[0;34m\u001b[0m\u001b[0;34m\u001b[0m\u001b[0m\n\u001b[0m\u001b[1;32m      4\u001b[0m \u001b[0mprint\u001b[0m\u001b[0;34m(\u001b[0m\u001b[0;34m'The average rainfall for bizerte for period 2019-2020 is '\u001b[0m\u001b[0;34m,\u001b[0m\u001b[0mround\u001b[0m\u001b[0;34m(\u001b[0m\u001b[0maveragebizerte\u001b[0m\u001b[0;34m)\u001b[0m\u001b[0;34m)\u001b[0m\u001b[0;34m\u001b[0m\u001b[0;34m\u001b[0m\u001b[0m\n\u001b[1;32m      5\u001b[0m \u001b[0;34m\u001b[0m\u001b[0m\n",
      "\u001b[0;32m~/opt/anaconda3/lib/python3.8/statistics.py\u001b[0m in \u001b[0;36mmean\u001b[0;34m(data)\u001b[0m\n\u001b[1;32m    313\u001b[0m     \u001b[0mn\u001b[0m \u001b[0;34m=\u001b[0m \u001b[0mlen\u001b[0m\u001b[0;34m(\u001b[0m\u001b[0mdata\u001b[0m\u001b[0;34m)\u001b[0m\u001b[0;34m\u001b[0m\u001b[0;34m\u001b[0m\u001b[0m\n\u001b[1;32m    314\u001b[0m     \u001b[0;32mif\u001b[0m \u001b[0mn\u001b[0m \u001b[0;34m<\u001b[0m \u001b[0;36m1\u001b[0m\u001b[0;34m:\u001b[0m\u001b[0;34m\u001b[0m\u001b[0;34m\u001b[0m\u001b[0m\n\u001b[0;32m--> 315\u001b[0;31m         \u001b[0;32mraise\u001b[0m \u001b[0mStatisticsError\u001b[0m\u001b[0;34m(\u001b[0m\u001b[0;34m'mean requires at least one data point'\u001b[0m\u001b[0;34m)\u001b[0m\u001b[0;34m\u001b[0m\u001b[0;34m\u001b[0m\u001b[0m\n\u001b[0m\u001b[1;32m    316\u001b[0m     \u001b[0mT\u001b[0m\u001b[0;34m,\u001b[0m \u001b[0mtotal\u001b[0m\u001b[0;34m,\u001b[0m \u001b[0mcount\u001b[0m \u001b[0;34m=\u001b[0m \u001b[0m_sum\u001b[0m\u001b[0;34m(\u001b[0m\u001b[0mdata\u001b[0m\u001b[0;34m)\u001b[0m\u001b[0;34m\u001b[0m\u001b[0;34m\u001b[0m\u001b[0m\n\u001b[1;32m    317\u001b[0m     \u001b[0;32massert\u001b[0m \u001b[0mcount\u001b[0m \u001b[0;34m==\u001b[0m \u001b[0mn\u001b[0m\u001b[0;34m\u001b[0m\u001b[0;34m\u001b[0m\u001b[0m\n",
      "\u001b[0;31mStatisticsError\u001b[0m: mean requires at least one data point"
     ]
    }
   ],
   "source": [
    "bizerte=df.loc[df['station'] == 'بنزرت']\n",
    "\n",
    "averagebizerte=statistics.mean(bizerte['Cumul_periode_precedente'])\n",
    "print('The average rainfall for bizerte for period 2019-2020 is ',round(averagebizerte))\n",
    "\n",
    "averagebizerte=statistics.mean(bizerte['Cumul_periode'])\n",
    "print('The average rainfall for bizerte for period 2020-2021 is ',round(averagebizerte))\n"
   ]
  },
  {
   "cell_type": "code",
   "execution_count": 52,
   "metadata": {},
   "outputs": [
    {
     "name": "stdout",
     "output_type": "stream",
     "text": [
      "The average rainfall for beja for period 2019-2020 is  312\n",
      "The average rainfall for bejafor period 2020-2021 is  319\n"
     ]
    }
   ],
   "source": [
    "beja=df.loc[df['station'] == 'بــاجة']\n",
    "\n",
    "averagebeja=statistics.mean(beja['Cumul_periode_precedente'])\n",
    "print('The average rainfall for beja for period 2019-2020 is ',round(averagebeja))\n",
    "\n",
    "averagebeja=statistics.mean(beja['Cumul_periode'])\n",
    "print('The average rainfall for bejafor period 2020-2021 is ',round(averagebeja))"
   ]
  },
  {
   "cell_type": "markdown",
   "metadata": {},
   "source": [
    "## Data Visualization"
   ]
  },
  {
   "cell_type": "code",
   "execution_count": 15,
   "metadata": {},
   "outputs": [
    {
     "name": "stdout",
     "output_type": "stream",
     "text": [
      "station\n",
      " جومين               457.451104\n",
      "أريانة               419.388715\n",
      "أم العرائس            77.484227\n",
      "البطان               231.493730\n",
      "الجبيبنة 3 النظور    235.392744\n",
      "                        ...    \n",
      "نابل                 273.243711\n",
      "نفزة                  43.482759\n",
      "نفزة                 532.600000\n",
      "نفطة                   0.000000\n",
      "نفطة                  40.605536\n",
      "Name: Cumul_periode_precedente, Length: 158, dtype: float64\n"
     ]
    }
   ],
   "source": [
    "total_precip1 = df['Cumul_periode_precedente'].groupby(df['station'])\n",
    "print(total_precip1.mean())"
   ]
  },
  {
   "cell_type": "code",
   "execution_count": 16,
   "metadata": {},
   "outputs": [],
   "source": [
    "IPython_default = plt.rcParams.copy()\n",
    "\n",
    "from matplotlib import cycler\n",
    "colors = cycler('color',\n",
    "                ['#EE6666', '#3388BB', '#9988DD',\n",
    "                 '#EECC55', '#88BB44', '#FFBBBB'])\n",
    "plt.rc('axes', facecolor='#E6E6E6', edgecolor='none',\n",
    "       axisbelow=True, grid=True, prop_cycle=colors)\n",
    "plt.rc('grid', color='w', linestyle='solid')\n",
    "plt.rc('xtick', direction='out', color='gray')\n",
    "plt.rc('ytick', direction='out', color='gray')\n",
    "plt.rc('patch', edgecolor='#E6E6E6')\n",
    "plt.rc('lines', linewidth=2)"
   ]
  },
  {
   "cell_type": "code",
   "execution_count": 17,
   "metadata": {},
   "outputs": [
    {
     "data": {
      "image/png": "[encoded data removed]",
      "text/plain": "<Figure size 432x288 with 1 Axes>"
     },
     "metadata": {
      "needs_background": "dark"
     },
     "output_type": "display_data"
    }
   ],
   "source": [
    "fig = sns.kdeplot(df['Cumul_periode'], shade=True, color=\"r\")\n",
    "fig = sns.kdeplot(df['Cumul_periode_precedente'], shade=True, color=\"b\")\n",
    "plt.show()"
   ]
  },
  {
   "cell_type": "code",
   "execution_count": 28,
   "metadata": {},
   "outputs": [
    {
     "data": {
      "image/png": "[encoded data removed]",
      "text/plain": "<Figure size 432x288 with 1 Axes>"
     },
     "metadata": {
      "needs_background": "dark"
     },
     "output_type": "display_data"
    }
   ],
   "source": [
    "plt.hist(df['Cumul_periode'])\n",
    "# set x/y labels and plot title\n",
    "plt.xlabel(\"Cumulative for period 2020/2021\")\n",
    "plt.ylabel(\"Count\")\n",
    "plt.savefig('Cumulative20202021.png')"
   ]
  },
  {
   "cell_type": "code",
   "execution_count": 19,
   "metadata": {},
   "outputs": [
    {
     "data": {
      "image/png": "[encoded data removed]",
      "text/plain": "<Figure size 432x288 with 1 Axes>"
     },
     "metadata": {
      "needs_background": "dark"
     },
     "output_type": "display_data"
    }
   ],
   "source": [
    "plt.hist(df['Cumul_periode_precedente'])\n",
    "# set x/y labels and plot title\n",
    "plt.xlabel(\"Cumulative for period 2019/2020\")\n",
    "plt.ylabel(\"Count\")\n",
    "plt.savefig('Cumulative20192020.png')"
   ]
  },
  {
   "cell_type": "markdown",
   "metadata": {},
   "source": [
    "We build a bin array with a minimum value to a maximum value by using the bandwidth calculated above. The values will determine when one bin ends and another begins."
   ]
  },
  {
   "cell_type": "code",
   "execution_count": 20,
   "metadata": {},
   "outputs": [
    {
     "data": {
      "text/plain": "array([   0.        ,  411.66666667,  823.33333333, 1235.        ])"
     },
     "execution_count": 20,
     "metadata": {},
     "output_type": "execute_result"
    }
   ],
   "source": [
    "bins = np.linspace(min(df[\"Cumul_periode\"]), max(df[\"Cumul_periode\"]), 4)\n",
    "bins"
   ]
  },
  {
   "cell_type": "code",
   "execution_count": 21,
   "metadata": {},
   "outputs": [],
   "source": [
    "group_names = ['Low', 'Medium', 'High']"
   ]
  },
  {
   "cell_type": "code",
   "execution_count": 22,
   "metadata": {},
   "outputs": [
    {
     "data": {
      "text/html": "<div>\n<style scoped>\n    .dataframe tbody tr th:only-of-type {\n        vertical-align: middle;\n    }\n\n    .dataframe tbody tr th {\n        vertical-align: top;\n    }\n\n    .dataframe thead th {\n        text-align: right;\n    }\n</style>\n<table border=\"1\" class=\"dataframe\">\n  <thead>\n    <tr style=\"text-align: right;\">\n      <th></th>\n      <th>Cumul_periode</th>\n      <th>Cumul_periode-binned</th>\n    </tr>\n  </thead>\n  <tbody>\n    <tr>\n      <th>22873</th>\n      <td>641.5</td>\n      <td>Medium</td>\n    </tr>\n    <tr>\n      <th>1284</th>\n      <td>193.0</td>\n      <td>Low</td>\n    </tr>\n    <tr>\n      <th>17830</th>\n      <td>641.5</td>\n      <td>Medium</td>\n    </tr>\n    <tr>\n      <th>38444</th>\n      <td>398.0</td>\n      <td>Low</td>\n    </tr>\n    <tr>\n      <th>36845</th>\n      <td>428.0</td>\n      <td>Medium</td>\n    </tr>\n    <tr>\n      <th>31930</th>\n      <td>514.0</td>\n      <td>Medium</td>\n    </tr>\n    <tr>\n      <th>21151</th>\n      <td>641.5</td>\n      <td>Medium</td>\n    </tr>\n    <tr>\n      <th>25881</th>\n      <td>602.5</td>\n      <td>Medium</td>\n    </tr>\n    <tr>\n      <th>3858</th>\n      <td>86.0</td>\n      <td>Low</td>\n    </tr>\n    <tr>\n      <th>423</th>\n      <td>206.0</td>\n      <td>Low</td>\n    </tr>\n  </tbody>\n</table>\n</div>",
      "text/plain": "       Cumul_periode Cumul_periode-binned\n22873          641.5               Medium\n1284           193.0                  Low\n17830          641.5               Medium\n38444          398.0                  Low\n36845          428.0               Medium\n31930          514.0               Medium\n21151          641.5               Medium\n25881          602.5               Medium\n3858            86.0                  Low\n423            206.0                  Low"
     },
     "execution_count": 22,
     "metadata": {},
     "output_type": "execute_result"
    }
   ],
   "source": [
    "df['Cumul_periode-binned'] = pd.cut(df['Cumul_periode'], bins, labels=group_names, include_lowest=True )\n",
    "df[['Cumul_periode','Cumul_periode-binned']].head(10)"
   ]
  },
  {
   "cell_type": "code",
   "execution_count": 23,
   "metadata": {},
   "outputs": [
    {
     "data": {
      "text/html": "<div>\n<style scoped>\n    .dataframe tbody tr th:only-of-type {\n        vertical-align: middle;\n    }\n\n    .dataframe tbody tr th {\n        vertical-align: top;\n    }\n\n    .dataframe thead th {\n        text-align: right;\n    }\n</style>\n<table border=\"1\" class=\"dataframe\">\n  <thead>\n    <tr style=\"text-align: right;\">\n      <th></th>\n      <th>Cumul_periode_precedente</th>\n      <th>Cumul_periode_precedente-binned</th>\n    </tr>\n  </thead>\n  <tbody>\n    <tr>\n      <th>22873</th>\n      <td>626.0</td>\n      <td>Medium</td>\n    </tr>\n    <tr>\n      <th>1284</th>\n      <td>203.0</td>\n      <td>Low</td>\n    </tr>\n    <tr>\n      <th>17830</th>\n      <td>634.0</td>\n      <td>Medium</td>\n    </tr>\n    <tr>\n      <th>38444</th>\n      <td>379.0</td>\n      <td>Low</td>\n    </tr>\n    <tr>\n      <th>36845</th>\n      <td>419.0</td>\n      <td>Medium</td>\n    </tr>\n    <tr>\n      <th>31930</th>\n      <td>419.0</td>\n      <td>Medium</td>\n    </tr>\n    <tr>\n      <th>21151</th>\n      <td>626.0</td>\n      <td>Medium</td>\n    </tr>\n    <tr>\n      <th>25881</th>\n      <td>576.0</td>\n      <td>Medium</td>\n    </tr>\n    <tr>\n      <th>3858</th>\n      <td>199.0</td>\n      <td>Low</td>\n    </tr>\n    <tr>\n      <th>423</th>\n      <td>209.0</td>\n      <td>Low</td>\n    </tr>\n  </tbody>\n</table>\n</div>",
      "text/plain": "       Cumul_periode_precedente Cumul_periode_precedente-binned\n22873                     626.0                          Medium\n1284                      203.0                             Low\n17830                     634.0                          Medium\n38444                     379.0                             Low\n36845                     419.0                          Medium\n31930                     419.0                          Medium\n21151                     626.0                          Medium\n25881                     576.0                          Medium\n3858                      199.0                             Low\n423                       209.0                             Low"
     },
     "execution_count": 23,
     "metadata": {},
     "output_type": "execute_result"
    }
   ],
   "source": [
    "df['Cumul_periode_precedente-binned'] = pd.cut(df['Cumul_periode_precedente'], bins, \n",
    "labels=group_names, include_lowest=True )\n",
    "df[['Cumul_periode_precedente','Cumul_periode_precedente-binned']].head(10)"
   ]
  },
  {
   "cell_type": "code",
   "execution_count": 24,
   "metadata": {},
   "outputs": [
    {
     "data": {
      "image/png": "[encoded data removed]",
      "text/plain": "<Figure size 432x288 with 1 Axes>"
     },
     "metadata": {
      "needs_background": "dark"
     },
     "output_type": "display_data"
    }
   ],
   "source": [
    "plt.bar(group_names, df[\"Cumul_periode-binned\"].value_counts())\n",
    "plt.title('Cumulative rainfall in periode 2020/2021')\n",
    "plt.savefig('20202021.png')"
   ]
  },
  {
   "cell_type": "code",
   "execution_count": 25,
   "metadata": {},
   "outputs": [
    {
     "data": {
      "image/png": "[encoded data removed]",
      "text/plain": "<Figure size 432x288 with 1 Axes>"
     },
     "metadata": {
      "needs_background": "dark"
     },
     "output_type": "display_data"
    }
   ],
   "source": [
    "plt.bar(group_names, df[\"Cumul_periode_precedente-binned\"].value_counts())\n",
    "plt.title('Cumulative rainfall in periode 2019/2020')\n",
    "plt.savefig('20192020.png')"
   ]
  },
  {
   "cell_type": "code",
   "execution_count": 26,
   "metadata": {},
   "outputs": [
    {
     "data": {
      "image/png": "[encoded data removed]",
      "text/plain": "<Figure size 432x288 with 1 Axes>"
     },
     "metadata": {
      "needs_background": "dark"
     },
     "output_type": "display_data"
    }
   ],
   "source": [
    "w=0.4\n",
    "\n",
    "bar1=np.arange(len(group_names))\n",
    "bar2=[i+w for i in bar1]\n",
    "\n",
    "plt.bar(bar1,df[\"Cumul_periode_precedente-binned\"].value_counts(),w)\n",
    "plt.bar(bar2, df[\"Cumul_periode-binned\"].value_counts(),w)\n",
    "plt.title('The difference between cumulatives for period 2020/2021 and 2019/2020 ')\n",
    "plt.savefig('difference.png')\n",
    "plt.show()"
   ]
  }
 ],
 "metadata": {
  "kernelspec": {
   "display_name": "Python 3.8.8 64-bit",
   "name": "python388jvsc74a57bd098256a45d3b041f9e006e89fbd8a10c459e7adcac42cdfcea2b1ab5dbdb4fa21"
  },
  "language_info": {
   "codemirror_mode": {
    "name": "ipython",
    "version": 3
   },
   "file_extension": ".py",
   "mimetype": "text/x-python",
   "name": "python",
   "nbconvert_exporter": "python",
   "pygments_lexer": "ipython3",
   "version": "3.8.8"
  },
  "orig_nbformat": 2
 },
 "nbformat": 4,
 "nbformat_minor": 2
}